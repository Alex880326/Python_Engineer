{
  "nbformat": 4,
  "nbformat_minor": 0,
  "metadata": {
    "colab": {
      "provenance": [],
      "authorship_tag": "ABX9TyOgEXZamH0Z5o/AZ2gO03Wn",
      "include_colab_link": true
    },
    "kernelspec": {
      "name": "python3",
      "display_name": "Python 3"
    },
    "language_info": {
      "name": "python"
    }
  },
  "cells": [
    {
      "cell_type": "markdown",
      "metadata": {
        "id": "view-in-github",
        "colab_type": "text"
      },
      "source": [
        "<a href=\"https://colab.research.google.com/github/Alex880326/Python_Engineer/blob/master/HomePython_4.ipynb\" target=\"_parent\"><img src=\"https://colab.research.google.com/assets/colab-badge.svg\" alt=\"Open In Colab\"/></a>"
      ]
    },
    {
      "cell_type": "markdown",
      "source": [
        "Напишите функцию для транспонирования матрицы"
      ],
      "metadata": {
        "id": "oP9jsawX8eBP"
      }
    },
    {
      "cell_type": "code",
      "source": [
        "def matr(matrix):\n",
        "    if not matrix:\n",
        "        return []\n",
        "\n",
        "    num_rows = len(matrix)\n",
        "    num_cols = len(matrix[0])\n",
        "\n",
        "    matrix = [[matrix[j][i] for j in range(num_rows)] for i in range(num_cols)]\n",
        "\n",
        "    return matrix\n",
        "\n",
        "dat =     [[1, 2, 3],\n",
        "          [8, 9, 4],\n",
        "          [7, 6, 5]]\n",
        "\n",
        "\n",
        "if __name__ == '__main__':\n",
        "  matrix = matr(dat)\n",
        "  for row in matrix:\n",
        "    print(row)\n"
      ],
      "metadata": {
        "colab": {
          "base_uri": "https://localhost:8080/"
        },
        "id": "ilT-s2Ya8e-I",
        "outputId": "4baee92b-e7a7-4254-c7c5-63bc2ea74499"
      },
      "execution_count": null,
      "outputs": [
        {
          "output_type": "stream",
          "name": "stdout",
          "text": [
            "[1, 8, 7]\n",
            "[2, 9, 6]\n",
            "[3, 4, 5]\n"
          ]
        }
      ]
    },
    {
      "cell_type": "markdown",
      "source": [
        "Напишите функцию принимающую на вход только ключевые параметры и возвращающую словарь, где ключ — значение переданного аргумента, а значение — имя аргумента. Если ключ не хешируем, используйте его строковое представление."
      ],
      "metadata": {
        "id": "u1hteXw9Gsth"
      }
    },
    {
      "cell_type": "code",
      "source": [
        "\n",
        "\n",
        "def keyarg_to_dict(**kwargs):\n",
        "    result = {}\n",
        "    for key, value in kwargs.items():\n",
        "        try:\n",
        "            result[key] = value\n",
        "        except:\n",
        "            result[str(key)] = value\n",
        "    return result\n",
        "\n",
        "result = keyarg_to_dict(key = 58, log = 'Pedro95', pwd = '8Tj5%/._57', res = [65, 980, 282])\n",
        "print(result)\n"
      ],
      "metadata": {
        "colab": {
          "base_uri": "https://localhost:8080/"
        },
        "id": "C5cjBE0xnha6",
        "outputId": "74544923-0abf-4e0e-b097-ce94c00febf0"
      },
      "execution_count": 13,
      "outputs": [
        {
          "output_type": "stream",
          "name": "stdout",
          "text": [
            "{'key': 58, 'log': 'Pedro95', 'pwd': '8Tj5%/._57', 'res': [65, 980, 282]}\n"
          ]
        }
      ]
    },
    {
      "cell_type": "markdown",
      "source": [
        "Возьмите задачу о банкомате из семинара 2. Разбейте её на отдельные операции — функции. Дополнительно сохраняйте все операции поступления и снятия средств в список."
      ],
      "metadata": {
        "id": "PjddQS-GPw0a"
      }
    },
    {
      "cell_type": "code",
      "source": [
        "from decimal import Decimal\n",
        "\n",
        "MIN_SUM = 50\n",
        "PROCENT_COMMISION = Decimal(0.015)\n",
        "MIN_COMISSION = 30\n",
        "MAX_COMISSION = 600\n",
        "BONUS = Decimal(0.03)\n",
        "LIMIT_BEFORE_TAX = 5_000_000\n",
        "TAX_RATE = Decimal(0.1)\n",
        "BALANCE_LIST = []\n",
        "\n",
        "def menu(balance: Decimal, count: int, is_flag: bool):\n",
        "    dct = {'1': 'пополнить счет',\n",
        "           '2': 'снять со счета',\n",
        "           '3': 'выйти из программы',\n",
        "           '4': 'история операций'}\n",
        "\n",
        "    for k, v in dct.items():\n",
        "        if k.isdigit():\n",
        "            print(f'{k}: {v}')\n",
        "        else:\n",
        "            print(v)\n",
        "    if balance > LIMIT_BEFORE_TAX:\n",
        "        balance *= (1 - TAX_RATE)\n",
        "    choice = input('введите команду: ')\n",
        "    if choice == '3':\n",
        "        print(balance)\n",
        "        is_flag = False\n",
        "        return balance, is_flag\n",
        "    elif choice == '1':\n",
        "        balance = give_money(balance)\n",
        "        count += 1\n",
        "    elif choice == '2':\n",
        "        balance = get_money(balance)\n",
        "        count += 1\n",
        "    elif choice == '4':\n",
        "        print('история операций: ', ', '.join(map(str,balance_list)))\n",
        "    else:\n",
        "        print('Неверная команда')\n",
        "    if count % 3 == 0:\n",
        "        balance *= (1 + BONUS)\n",
        "    print(balance)\n",
        "    return balance, is_flag\n",
        "\n",
        "def get_money(balance: Decimal):\n",
        "    money_to_get = Decimal(input('Введите сумму снятия: '))\n",
        "    procent = money_to_get * PROCENT_COMMISION\n",
        "\n",
        "    if money_to_get % MIN_SUM == 0:\n",
        "        if procent < MIN_COMISSION:\n",
        "            procent = MIN_COMISSION\n",
        "        elif procent > MAX_COMISSION:\n",
        "            procent = MAX_COMISSION\n",
        "\n",
        "        if money_to_get + procent <= balance:\n",
        "            return balance - (money_to_get + procent)\n",
        "        else:\n",
        "            print('Недостаточно средств для снятия')\n",
        "            return balance\n",
        "\n",
        "    else:\n",
        "        print('Ошибка снятия денег, сумма должна быть кратна 50')\n",
        "        return balance\n",
        "\n",
        "def give_money(balance: Decimal):\n",
        "    money_to_give = Decimal(input('Введите сумму пополнения: '))\n",
        "\n",
        "    if money_to_give % MIN_SUM == 0:\n",
        "        return balance + money_to_give\n",
        "    else:\n",
        "        print('Недостаточно средств для пополнения, сумма не кратна 50')\n",
        "        return balance\n",
        "\n",
        "\n",
        "if __name__ == '__main__':\n",
        "    print('Добро пожаловать в программу банкомат')\n",
        "    balance = 0\n",
        "    count = 1\n",
        "    is_flag = True\n",
        "    while is_flag:\n",
        "        balance, is_flag = menu(balance, count, is_flag)"
      ],
      "metadata": {
        "colab": {
          "base_uri": "https://localhost:8080/",
          "height": 772
        },
        "id": "RtLO9DHNYSTn",
        "outputId": "71989f9b-6a85-4493-d215-d9272b495055"
      },
      "execution_count": 16,
      "outputs": [
        {
          "output_type": "stream",
          "name": "stdout",
          "text": [
            "Добро пожаловать в программу банкомат\n",
            "1: пополнить счет\n",
            "2: снять со счета\n",
            "3: выйти из программы\n",
            "4: история операций\n",
            "введите команду: 1\n",
            "Введите сумму пополнения: 2500\n",
            "2500\n",
            "1: пополнить счет\n",
            "2: снять со счета\n",
            "3: выйти из программы\n",
            "4: история операций\n",
            "введите команду: 2\n",
            "Введите сумму снятия: 500\n",
            "1970\n",
            "1: пополнить счет\n",
            "2: снять со счета\n",
            "3: выйти из программы\n",
            "4: история операций\n",
            "введите команду: 4\n",
            "Операции по счету:  -560, -550, 25500, -250, -500\n",
            "1970\n",
            "1: пополнить счет\n",
            "2: снять со счета\n",
            "3: выйти из программы\n",
            "4: история операций\n"
          ]
        },
        {
          "output_type": "error",
          "ename": "KeyboardInterrupt",
          "evalue": "Interrupted by user",
          "traceback": [
            "\u001b[0;31m---------------------------------------------------------------------------\u001b[0m",
            "\u001b[0;31mKeyboardInterrupt\u001b[0m                         Traceback (most recent call last)",
            "\u001b[0;32m<ipython-input-16-011adb7afbc9>\u001b[0m in \u001b[0;36m<cell line: 75>\u001b[0;34m()\u001b[0m\n\u001b[1;32m     79\u001b[0m     \u001b[0mis_flag\u001b[0m \u001b[0;34m=\u001b[0m \u001b[0;32mTrue\u001b[0m\u001b[0;34m\u001b[0m\u001b[0;34m\u001b[0m\u001b[0m\n\u001b[1;32m     80\u001b[0m     \u001b[0;32mwhile\u001b[0m \u001b[0mis_flag\u001b[0m\u001b[0;34m:\u001b[0m\u001b[0;34m\u001b[0m\u001b[0;34m\u001b[0m\u001b[0m\n\u001b[0;32m---> 81\u001b[0;31m         \u001b[0mbalance\u001b[0m\u001b[0;34m,\u001b[0m \u001b[0mis_flag\u001b[0m \u001b[0;34m=\u001b[0m \u001b[0mmenu\u001b[0m\u001b[0;34m(\u001b[0m\u001b[0mbalance\u001b[0m\u001b[0;34m,\u001b[0m \u001b[0mcount\u001b[0m\u001b[0;34m,\u001b[0m \u001b[0mis_flag\u001b[0m\u001b[0;34m)\u001b[0m\u001b[0;34m\u001b[0m\u001b[0;34m\u001b[0m\u001b[0m\n\u001b[0m",
            "\u001b[0;32m<ipython-input-16-011adb7afbc9>\u001b[0m in \u001b[0;36mmenu\u001b[0;34m(balance, count, is_flag)\u001b[0m\n\u001b[1;32m     23\u001b[0m     \u001b[0;32mif\u001b[0m \u001b[0mbalance\u001b[0m \u001b[0;34m>\u001b[0m \u001b[0mLIMIT_BEFORE_TAX\u001b[0m\u001b[0;34m:\u001b[0m\u001b[0;34m\u001b[0m\u001b[0;34m\u001b[0m\u001b[0m\n\u001b[1;32m     24\u001b[0m         \u001b[0mbalance\u001b[0m \u001b[0;34m*=\u001b[0m \u001b[0;34m(\u001b[0m\u001b[0;36m1\u001b[0m \u001b[0;34m-\u001b[0m \u001b[0mTAX_RATE\u001b[0m\u001b[0;34m)\u001b[0m\u001b[0;34m\u001b[0m\u001b[0;34m\u001b[0m\u001b[0m\n\u001b[0;32m---> 25\u001b[0;31m     \u001b[0mchoice\u001b[0m \u001b[0;34m=\u001b[0m \u001b[0minput\u001b[0m\u001b[0;34m(\u001b[0m\u001b[0;34m'введите команду: '\u001b[0m\u001b[0;34m)\u001b[0m\u001b[0;34m\u001b[0m\u001b[0;34m\u001b[0m\u001b[0m\n\u001b[0m\u001b[1;32m     26\u001b[0m     \u001b[0;32mif\u001b[0m \u001b[0mchoice\u001b[0m \u001b[0;34m==\u001b[0m \u001b[0;34m'3'\u001b[0m\u001b[0;34m:\u001b[0m\u001b[0;34m\u001b[0m\u001b[0;34m\u001b[0m\u001b[0m\n\u001b[1;32m     27\u001b[0m         \u001b[0mprint\u001b[0m\u001b[0;34m(\u001b[0m\u001b[0mbalance\u001b[0m\u001b[0;34m)\u001b[0m\u001b[0;34m\u001b[0m\u001b[0;34m\u001b[0m\u001b[0m\n",
            "\u001b[0;32m/usr/local/lib/python3.10/dist-packages/ipykernel/kernelbase.py\u001b[0m in \u001b[0;36mraw_input\u001b[0;34m(self, prompt)\u001b[0m\n\u001b[1;32m    849\u001b[0m                 \u001b[0;34m\"raw_input was called, but this frontend does not support input requests.\"\u001b[0m\u001b[0;34m\u001b[0m\u001b[0;34m\u001b[0m\u001b[0m\n\u001b[1;32m    850\u001b[0m             )\n\u001b[0;32m--> 851\u001b[0;31m         return self._input_request(str(prompt),\n\u001b[0m\u001b[1;32m    852\u001b[0m             \u001b[0mself\u001b[0m\u001b[0;34m.\u001b[0m\u001b[0m_parent_ident\u001b[0m\u001b[0;34m,\u001b[0m\u001b[0;34m\u001b[0m\u001b[0;34m\u001b[0m\u001b[0m\n\u001b[1;32m    853\u001b[0m             \u001b[0mself\u001b[0m\u001b[0;34m.\u001b[0m\u001b[0m_parent_header\u001b[0m\u001b[0;34m,\u001b[0m\u001b[0;34m\u001b[0m\u001b[0;34m\u001b[0m\u001b[0m\n",
            "\u001b[0;32m/usr/local/lib/python3.10/dist-packages/ipykernel/kernelbase.py\u001b[0m in \u001b[0;36m_input_request\u001b[0;34m(self, prompt, ident, parent, password)\u001b[0m\n\u001b[1;32m    893\u001b[0m             \u001b[0;32mexcept\u001b[0m \u001b[0mKeyboardInterrupt\u001b[0m\u001b[0;34m:\u001b[0m\u001b[0;34m\u001b[0m\u001b[0;34m\u001b[0m\u001b[0m\n\u001b[1;32m    894\u001b[0m                 \u001b[0;31m# re-raise KeyboardInterrupt, to truncate traceback\u001b[0m\u001b[0;34m\u001b[0m\u001b[0;34m\u001b[0m\u001b[0m\n\u001b[0;32m--> 895\u001b[0;31m                 \u001b[0;32mraise\u001b[0m \u001b[0mKeyboardInterrupt\u001b[0m\u001b[0;34m(\u001b[0m\u001b[0;34m\"Interrupted by user\"\u001b[0m\u001b[0;34m)\u001b[0m \u001b[0;32mfrom\u001b[0m \u001b[0;32mNone\u001b[0m\u001b[0;34m\u001b[0m\u001b[0;34m\u001b[0m\u001b[0m\n\u001b[0m\u001b[1;32m    896\u001b[0m             \u001b[0;32mexcept\u001b[0m \u001b[0mException\u001b[0m \u001b[0;32mas\u001b[0m \u001b[0me\u001b[0m\u001b[0;34m:\u001b[0m\u001b[0;34m\u001b[0m\u001b[0;34m\u001b[0m\u001b[0m\n\u001b[1;32m    897\u001b[0m                 \u001b[0mself\u001b[0m\u001b[0;34m.\u001b[0m\u001b[0mlog\u001b[0m\u001b[0;34m.\u001b[0m\u001b[0mwarning\u001b[0m\u001b[0;34m(\u001b[0m\u001b[0;34m\"Invalid Message:\"\u001b[0m\u001b[0;34m,\u001b[0m \u001b[0mexc_info\u001b[0m\u001b[0;34m=\u001b[0m\u001b[0;32mTrue\u001b[0m\u001b[0;34m)\u001b[0m\u001b[0;34m\u001b[0m\u001b[0;34m\u001b[0m\u001b[0m\n",
            "\u001b[0;31mKeyboardInterrupt\u001b[0m: Interrupted by user"
          ]
        }
      ]
    }
  ]
}