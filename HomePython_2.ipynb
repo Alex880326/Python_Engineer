{
  "nbformat": 4,
  "nbformat_minor": 0,
  "metadata": {
    "colab": {
      "provenance": [],
      "authorship_tag": "ABX9TyMqUe+kSJVwUR2X/3Brxlis",
      "include_colab_link": true
    },
    "kernelspec": {
      "name": "python3",
      "display_name": "Python 3"
    },
    "language_info": {
      "name": "python"
    }
  },
  "cells": [
    {
      "cell_type": "markdown",
      "metadata": {
        "id": "view-in-github",
        "colab_type": "text"
      },
      "source": [
        "<a href=\"https://colab.research.google.com/github/Alex880326/Python_Engineer/blob/master/HomePython_2.ipynb\" target=\"_parent\"><img src=\"https://colab.research.google.com/assets/colab-badge.svg\" alt=\"Open In Colab\"/></a>"
      ]
    },
    {
      "cell_type": "markdown",
      "source": [
        " Напишите программу, которая получает целое число и возвращает его шестнадцатеричное строковое представление. Функцию hex используйте для проверки своего результата.\n"
      ],
      "metadata": {
        "id": "t138JgY9OrzK"
      }
    },
    {
      "cell_type": "code",
      "source": [
        "BASE = 16\n",
        "number = int(input('Введите число: '))\n",
        "print(hex(number))\n",
        "result = ''\n",
        "while number > BASE:\n",
        "    result += str(number % BASE)\n",
        "    number //= BASE\n",
        "result += str(number)\n",
        "print(result[::-1])"
      ],
      "metadata": {
        "colab": {
          "base_uri": "https://localhost:8080/"
        },
        "id": "N7GMNjnBUOh9",
        "outputId": "b6a1b612-2c79-4c6a-f174-ae7618296607"
      },
      "execution_count": null,
      "outputs": [
        {
          "output_type": "stream",
          "name": "stdout",
          "text": [
            "Введите число: 256\n",
            "0x100\n",
            "016\n"
          ]
        }
      ]
    },
    {
      "cell_type": "code",
      "source": [
        "def int_to_hex(num):\n",
        "    return hex(num)\n",
        "\n",
        "num = int(input(\"Введите целое число: \"))\n",
        "hex_num = int_to_hex(num)\n",
        "print(\"Шестнадцатеричное представление числа:\", hex_num)"
      ],
      "metadata": {
        "colab": {
          "base_uri": "https://localhost:8080/"
        },
        "id": "kB3jVrZla56O",
        "outputId": "d5771586-a101-4d46-f6d4-a2309e907362"
      },
      "execution_count": null,
      "outputs": [
        {
          "output_type": "stream",
          "name": "stdout",
          "text": [
            "Введите целое число: 45\n",
            "Шестнадцатеричное представление числа: 0x2d\n"
          ]
        }
      ]
    },
    {
      "cell_type": "code",
      "source": [
        "num = int(input(\"Введите целое число: \"))\n",
        "hex_string = \"\"\n",
        "\n",
        "while num > 0:\n",
        "    remainder = num % 16\n",
        "    if remainder < 10:\n",
        "        hex_string = str(remainder) + hex_string\n",
        "    else:\n",
        "        hex_string = chr(ord('A') + remainder - 10) + hex_string\n",
        "    num //= 16\n",
        "\n",
        "print(hex_string)"
      ],
      "metadata": {
        "colab": {
          "base_uri": "https://localhost:8080/"
        },
        "id": "khysomPWbrcM",
        "outputId": "4b06769e-7c1b-4587-9638-e0470dfb9dc0"
      },
      "execution_count": null,
      "outputs": [
        {
          "output_type": "stream",
          "name": "stdout",
          "text": [
            "Введите целое число: 45\n",
            "2D\n"
          ]
        }
      ]
    },
    {
      "cell_type": "markdown",
      "source": [
        "Напишите программу, которая принимает две строки вида “a/b” - дробь с числителем и знаменателем. Программа должна возвращать сумму и произведение* дробей. Для проверки своего кода используйте модуль fractions"
      ],
      "metadata": {
        "id": "Udw8gqzzepPE"
      }
    },
    {
      "cell_type": "code",
      "source": [
        "from fractions import Fraction\n",
        "\n",
        "def calculate_fraction_sum_and_product(fraction1, fraction2):\n",
        "    numerator1, denominator1 = fraction1.split('/')\n",
        "    numerator2, denominator2 = fraction2.split('/')\n",
        "\n",
        "    fraction1 = Fraction(int(numerator1), int(denominator1))\n",
        "    fraction2 = Fraction(int(numerator2), int(denominator2))\n",
        "\n",
        "    sum_result = fraction1 + fraction2\n",
        "    product_result = fraction1 * fraction2\n",
        "\n",
        "    return sum_result, product_result\n",
        "\n",
        "fraction1 = input(\"Enter the first fraction (in the form a/b): \")\n",
        "fraction2 = input(\"Enter the second fraction (in the form a/b): \")\n",
        "\n",
        "sum_result, product_result = calculate_fraction_sum_and_product(fraction1, fraction2)\n",
        "\n",
        "print(\"Sum of fractions:\", sum_result)\n",
        "print(\"Product of fractions:\", product_result)\n"
      ],
      "metadata": {
        "colab": {
          "base_uri": "https://localhost:8080/"
        },
        "id": "A3pcob-verV6",
        "outputId": "6a83d08f-d092-49c5-b532-f39e42973491"
      },
      "execution_count": null,
      "outputs": [
        {
          "output_type": "stream",
          "name": "stdout",
          "text": [
            "Enter the first fraction (in the form a/b): 1/2\n",
            "Enter the second fraction (in the form a/b): 5/3\n",
            "Sum of fractions: 13/6\n",
            "Product of fractions: 5/6\n"
          ]
        }
      ]
    }
  ]
}