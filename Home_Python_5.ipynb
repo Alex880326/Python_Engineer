{
  "nbformat": 4,
  "nbformat_minor": 0,
  "metadata": {
    "colab": {
      "provenance": [],
      "authorship_tag": "ABX9TyPGGrTIt/PeFk8WqdPGvbEJ",
      "include_colab_link": true
    },
    "kernelspec": {
      "name": "python3",
      "display_name": "Python 3"
    },
    "language_info": {
      "name": "python"
    }
  },
  "cells": [
    {
      "cell_type": "markdown",
      "metadata": {
        "id": "view-in-github",
        "colab_type": "text"
      },
      "source": [
        "<a href=\"https://colab.research.google.com/github/Alex880326/Python_Engineer/blob/master/Home_Python_5.ipynb\" target=\"_parent\"><img src=\"https://colab.research.google.com/assets/colab-badge.svg\" alt=\"Open In Colab\"/></a>"
      ]
    },
    {
      "cell_type": "markdown",
      "source": [
        "Напишите функцию, которая принимает на вход строку - абсолютный путь до файла. Функция возвращает кортеж из трёх элементов: путь, имя файла, расширение файла."
      ],
      "metadata": {
        "id": "HueXD2MLayAL"
      }
    },
    {
      "cell_type": "code",
      "execution_count": 6,
      "metadata": {
        "colab": {
          "base_uri": "https://localhost:8080/"
        },
        "id": "LJHA4Qc3AxTI",
        "outputId": "360a56b4-cefe-4e4d-c705-8786f3192dbd"
      },
      "outputs": [
        {
          "output_type": "stream",
          "name": "stdout",
          "text": [
            "Файл расположен в: D:\\GB\\Python Enginer\best-python-cheat-sheet.pdf | Имя файла: D:\\GB\\Python Enginer\best-python-cheat-sheet | Расширение: .pdf\n"
          ]
        }
      ],
      "source": [
        "import os\n",
        "\n",
        "def file(filepath):\n",
        "\n",
        "    path_parts = filepath.split(os.sep)\n",
        "\n",
        "    filename = path_parts[-1]\n",
        "    name, extension = os.path.splitext(filename)\n",
        "\n",
        "    return (filepath, name, extension)\n",
        "\n",
        "if __name__ == \"__main__\":\n",
        "  filepath = 'D:\\GB\\Python Enginer\\best-python-cheat-sheet.pdf'\n",
        "  result = file(filepath)\n",
        "  print(f\"Файл расположен в: {result[0]} | Имя файла: {result[1]} | Расширение: {result[2]}\")\n"
      ]
    },
    {
      "cell_type": "markdown",
      "source": [
        "Напишите однострочный генератор словаря, который принимает на вход три списка одинаковой длины: имена str, ставка int, премия str с указанием процентов вида “10.25%”. В результате получаем словарь с именем в качестве ключа и суммой премии в качестве значения. Сумма рассчитывается как ставка умноженная на процент премии"
      ],
      "metadata": {
        "id": "Uh9yhMkAgKZ2"
      }
    },
    {
      "cell_type": "code",
      "source": [
        "workers = [\"Марина\", \"Сергей\", \"Антон\"]\n",
        "bets = [100, 200, 150]\n",
        "bonuses = [\"10.5%\", \"15.25%\", \"12.75%\"]\n",
        "{name: (rate  *  float(premium.rstrip('%')) / 100) for name, rate, premium in zip(workers, bets, bonuses)}\n"
      ],
      "metadata": {
        "colab": {
          "base_uri": "https://localhost:8080/"
        },
        "id": "afs4iPY4gTOd",
        "outputId": "16942cdb-53a6-4dde-9866-7e88f749b4e1"
      },
      "execution_count": 9,
      "outputs": [
        {
          "output_type": "execute_result",
          "data": {
            "text/plain": [
              "{'Марина': 10.5, 'Сергей': 30.5, 'Антон': 19.125}"
            ]
          },
          "metadata": {},
          "execution_count": 9
        }
      ]
    },
    {
      "cell_type": "markdown",
      "source": [
        " Создайте функцию генератор чисел Фибоначчи"
      ],
      "metadata": {
        "id": "NG-uigfJmoog"
      }
    },
    {
      "cell_type": "code",
      "source": [
        "def generator(n):\n",
        "    n, m = 0, 1\n",
        "    count = 0\n",
        "    while count < x:\n",
        "        yield n\n",
        "        n, m = m, n + m\n",
        "        count += 1\n",
        "\n",
        "x = 10\n",
        "for num in generator(n):\n",
        "    print(num, end=' ')\n",
        ""
      ],
      "metadata": {
        "colab": {
          "base_uri": "https://localhost:8080/"
        },
        "id": "eBWi7KLymtjX",
        "outputId": "c06b8307-82b8-4515-df62-0105575c942c"
      },
      "execution_count": 11,
      "outputs": [
        {
          "output_type": "stream",
          "name": "stdout",
          "text": [
            "0 1 1 2 3 5 8 13 21 34 "
          ]
        }
      ]
    }
  ]
}