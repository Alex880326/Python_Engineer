{
  "nbformat": 4,
  "nbformat_minor": 0,
  "metadata": {
    "colab": {
      "provenance": [],
      "authorship_tag": "ABX9TyPzwPMpW72l6GeheWqeXORY",
      "include_colab_link": true
    },
    "kernelspec": {
      "name": "python3",
      "display_name": "Python 3"
    },
    "language_info": {
      "name": "python"
    }
  },
  "cells": [
    {
      "cell_type": "markdown",
      "metadata": {
        "id": "view-in-github",
        "colab_type": "text"
      },
      "source": [
        "<a href=\"https://colab.research.google.com/github/Alex880326/Python_Engineer/blob/master/Home_Python_3.ipynb\" target=\"_parent\"><img src=\"https://colab.research.google.com/assets/colab-badge.svg\" alt=\"Open In Colab\"/></a>"
      ]
    },
    {
      "cell_type": "markdown",
      "source": [
        "2. Дан список повторяющихся элементов. Вернуть список с дублирующимися элементами. В результирующем списке не должно быть дубликатов"
      ],
      "metadata": {
        "id": "WYWnVB_7GWhg"
      }
    },
    {
      "cell_type": "code",
      "source": [
        "# my_list = [1, 2, 2, 3, 3, 3, 4, 4, 4, 4]\n",
        "# # Получаем список уникальных элементов исходного списка\n",
        "# list(set(my_list))"
      ],
      "metadata": {
        "colab": {
          "base_uri": "https://localhost:8080/"
        },
        "id": "1afe2oVuHT7V",
        "outputId": "672c068f-0cb3-4124-ea3a-7e01dfcb5dd4"
      },
      "execution_count": null,
      "outputs": [
        {
          "output_type": "execute_result",
          "data": {
            "text/plain": [
              "[1, 2, 3, 4]"
            ]
          },
          "metadata": {},
          "execution_count": 2
        }
      ]
    },
    {
      "cell_type": "code",
      "source": [
        "my_list = [1, 2, 2, 3, 3, 3, 4, 4, 4, 4]\n",
        "\n",
        "# Создаем множество из списка с повторяющимися элементами\n",
        "duplicates_set = set()\n",
        "duplicates_list = [x for x in my_list if x in duplicates_set or duplicates_set.add(x)]\n",
        "\n",
        "# Выводим список с повторяющимися элементами\n",
        "print(duplicates_list)"
      ],
      "metadata": {
        "colab": {
          "base_uri": "https://localhost:8080/"
        },
        "id": "goQE1V9HH6mk",
        "outputId": "a6236688-47f9-4f97-8f6f-756c9dabef86"
      },
      "execution_count": null,
      "outputs": [
        {
          "output_type": "stream",
          "name": "stdout",
          "text": [
            "[2, 3, 3, 4, 4, 4]\n"
          ]
        }
      ]
    },
    {
      "cell_type": "markdown",
      "source": [
        "3. В большой текстовой строке подсчитать количество встречаемых слов и вернуть 10 самых частых. Не учитывать знаки препинания и регистр символов. За основу возьмите любую статью из википедии или из документации к языку."
      ],
      "metadata": {
        "id": "OG9AiIrjGaex"
      }
    },
    {
      "cell_type": "code",
      "source": [
        "import re\n",
        "from collections import Counter\n",
        "\n",
        "text = \"\"\"Создайте словарь со списком вещей для похода в качестве ключа и их массой в качестве значения.\n",
        " Определите какие вещи влезут в рюкзак передав его максимальную грузоподъёмность.\n",
        " Достаточно вернуть один допустимый вариант.*Верните все возможные варианты комплектации рюкзака.\"\"\"\n",
        "words = re.findall(r'\\b\\w+\\b', text.lower())\n",
        "word_counts = Counter(words)\n",
        "most_common_words = word_counts.most_common(33)\n",
        "print(most_common_words)"
      ],
      "metadata": {
        "colab": {
          "base_uri": "https://localhost:8080/"
        },
        "id": "Dn2nRwHIGf9j",
        "outputId": "4eefe2bc-537a-48eb-ec70-2a70c746f80f"
      },
      "execution_count": null,
      "outputs": [
        {
          "output_type": "stream",
          "name": "stdout",
          "text": [
            "[('в', 3), ('качестве', 2), ('создайте', 1), ('словарь', 1), ('со', 1), ('списком', 1), ('вещей', 1), ('для', 1), ('похода', 1), ('ключа', 1), ('и', 1), ('их', 1), ('массой', 1), ('значения', 1), ('определите', 1), ('какие', 1), ('вещи', 1), ('влезут', 1), ('рюкзак', 1), ('передав', 1), ('его', 1), ('максимальную', 1), ('грузоподъёмность', 1), ('достаточно', 1), ('вернуть', 1), ('один', 1), ('допустимый', 1), ('вариант', 1), ('верните', 1), ('все', 1), ('возможные', 1), ('варианты', 1), ('комплектации', 1)]\n"
          ]
        }
      ]
    },
    {
      "cell_type": "markdown",
      "source": [
        "4. Создайте словарь со списком вещей для похода в качестве ключа и их массой в качестве значения. Определите какие вещи влезут в рюкзак передав его максимальную грузоподъёмность. Достаточно вернуть один допустимый вариант.*Верните все возможные варианты комплектации рюкзака."
      ],
      "metadata": {
        "id": "E5Zxew3ZGj5I"
      }
    },
    {
      "cell_type": "code",
      "source": [
        "def backpack(items_weights, max_weight):\n",
        "    backpack = set()\n",
        "    current_weight = 0\n",
        "    for item, weight in items_weights.items():\n",
        "        if weight + current_weight <= max_weight:\n",
        "            backpack.add(item)\n",
        "            current_weight += weight\n",
        "    return backpack\n",
        "\n",
        "items_weights = {'спальный мешок': 2, 'фонарь': 1, 'бутылка': 0.5, 'нож': 1, 'стул': 2.5, 'мангал': 3.5, 'палатка': 4}\n",
        "\n",
        "small_backpack, medium_backpack, big_backpack_weight = 4, 10, 15\n",
        "small_backpack = backpack(items_weights,  small_backpack)\n",
        "medium_backpack = backpack(items_weights,  medium_backpack)\n",
        "big_backpack = backpack(items_weights,  big_backpack_weight)\n",
        "print(f'маленький рюкзак', small_backpack, '\\n' 'средний рюкзак', medium_backpack, '\\n' 'большой рюкзак', big_backpack )"
      ],
      "metadata": {
        "colab": {
          "base_uri": "https://localhost:8080/"
        },
        "id": "VKe-v3i-GnfN",
        "outputId": "7b212640-7eb0-40b5-9442-a0351a484b00"
      },
      "execution_count": 1,
      "outputs": [
        {
          "output_type": "stream",
          "name": "stdout",
          "text": [
            "маленький рюкзак {'фонарь', 'бутылка', 'спальный мешок'} \n",
            "средний рюкзак {'бутылка', 'стул', 'фонарь', 'нож', 'спальный мешок'} \n",
            "большой рюкзак {'мангал', 'бутылка', 'стул', 'фонарь', 'палатка', 'нож', 'спальный мешок'}\n"
          ]
        }
      ]
    }
  ]
}